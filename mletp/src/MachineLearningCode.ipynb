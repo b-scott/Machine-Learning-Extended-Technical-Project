{
 "cells": [
  {
   "cell_type": "code",
   "execution_count": 1,
   "metadata": {},
   "outputs": [],
   "source": [
    "# Sources used\n",
    "# https://www.kaggle.com/sid321axn/step-wise-approach-cnn-model-77-0344-accuracy?fbclid=IwAR2JWtc6_nC3PZwfg5THA1qjTx1qaLc6NllbXIAftRkZQu_AnQ6VMgaDsIs"
   ]
  },
  {
   "cell_type": "code",
   "execution_count": 73,
   "metadata": {},
   "outputs": [],
   "source": [
    "# import libraries\n",
    "import os\n",
    "import numpy as np\n",
    "import pandas as pd\n",
    "from glob import glob\n",
    "import seaborn as sns\n",
    "import matplotlib.pyplot as pl\n",
    "from PIL import Image\n",
    "from sklearn.model_selection import train_test_split"
   ]
  },
  {
   "cell_type": "code",
   "execution_count": 3,
   "metadata": {},
   "outputs": [
    {
     "name": "stdout",
     "output_type": "stream",
     "text": [
      "C:\\Users\\Billy\\Documents\\CSC8635 - Machine Learning with Project\\Machine-Learning-Extended-Technical-Project\\mletp\\src\n"
     ]
    }
   ],
   "source": [
    "# get working directory\n",
    "cwd = os.getcwd()\n",
    "print(cwd)"
   ]
  },
  {
   "cell_type": "code",
   "execution_count": 56,
   "metadata": {},
   "outputs": [],
   "source": [
    "# change working directory to import data\n",
    "os.chdir(r\"C:\\Users\\Billy\\Documents\\CSC8635 - Machine Learning with Project\\Machine-Learning-Extended-Technical-Project\\mletp\\data\")"
   ]
  },
  {
   "cell_type": "code",
   "execution_count": 5,
   "metadata": {},
   "outputs": [],
   "source": [
    "metadata_df = pd.read_csv(\"HAM10000_metadata.csv\")\n",
    "hmnist_8_8_L = pd.read_csv(\"hmnist_8_8_L.csv\")\n",
    "hmnist_8_8_RGB = pd.read_csv(\"hmnist_8_8_RGB.csv\")\n",
    "hmnist_28_28_L = pd.read_csv(\"HAM10000_metadata.csv\")\n",
    "hmnist_28_28_RGB = pd.read_csv(\"HAM10000_metadata.csv\")"
   ]
  },
  {
   "cell_type": "code",
   "execution_count": 57,
   "metadata": {},
   "outputs": [],
   "source": [
    "# dictionary for image paths\n",
    "imageid_path_dict = {os.path.splitext(os.path.basename(x))[0]: x\n",
    "                     for x in glob(os.path.join('*', '*.jpg'))}"
   ]
  },
  {
   "cell_type": "code",
   "execution_count": 59,
   "metadata": {},
   "outputs": [],
   "source": [
    "# change working directory back\n",
    "os.chdir(r\"C:\\Users\\Billy\\Documents\\CSC8635 - Machine Learning with Project\\Machine-Learning-Extended-Technical-Project\\mletp\\src\")"
   ]
  },
  {
   "cell_type": "code",
   "execution_count": 60,
   "metadata": {},
   "outputs": [],
   "source": [
    "# dictionary to rename cell types for readability\n",
    "lesion_type_dict = {\n",
    "    'nv': 'Melanocytic Nevi',\n",
    "    'mel': 'Melanoma',\n",
    "    'bkl': 'Benign Keratosis-like Lesions ',\n",
    "    'bcc': 'Basal Cell Carcinoma',\n",
    "    'akiec': 'Bowens Disease',\n",
    "    'vasc': 'Vascular Lesions',\n",
    "    'df': 'Dermatofibroma'\n",
    "}"
   ]
  },
  {
   "cell_type": "code",
   "execution_count": 61,
   "metadata": {},
   "outputs": [],
   "source": [
    "# add column for path of image\n",
    "metadata_df['path'] = metadata_df['image_id'].map(imageid_path_dict.get)\n",
    "# add column for cell types, for readability\n",
    "metadata_df['cell_type'] = metadata_df['dx'].map(lesion_type_dict.get)"
   ]
  },
  {
   "cell_type": "markdown",
   "metadata": {},
   "source": [
    "Exploratory Data Analysis and Data Cleaning\n",
    "\n",
    "In order to gather an understanding of the data, it was important to run some exploratory data analysis and see things such as the structure of the data and what types the data are stored as."
   ]
  },
  {
   "cell_type": "code",
   "execution_count": 68,
   "metadata": {},
   "outputs": [
    {
     "name": "stdout",
     "output_type": "stream",
     "text": [
      "     lesion_id      image_id   dx dx_type   age   sex localization  \\\n",
      "0  HAM_0000118  ISIC_0027419  bkl   histo  80.0  male        scalp   \n",
      "1  HAM_0000118  ISIC_0025030  bkl   histo  80.0  male        scalp   \n",
      "2  HAM_0002730  ISIC_0026769  bkl   histo  80.0  male        scalp   \n",
      "3  HAM_0002730  ISIC_0025661  bkl   histo  80.0  male        scalp   \n",
      "4  HAM_0001466  ISIC_0031633  bkl   histo  75.0  male          ear   \n",
      "\n",
      "                                      path                       cell_type  \\\n",
      "0  HAM10000_images_part_1\\ISIC_0027419.jpg  Benign Keratosis-like Lesions    \n",
      "1  HAM10000_images_part_1\\ISIC_0025030.jpg  Benign Keratosis-like Lesions    \n",
      "2  HAM10000_images_part_1\\ISIC_0026769.jpg  Benign Keratosis-like Lesions    \n",
      "3  HAM10000_images_part_1\\ISIC_0025661.jpg  Benign Keratosis-like Lesions    \n",
      "4  HAM10000_images_part_2\\ISIC_0031633.jpg  Benign Keratosis-like Lesions    \n",
      "\n",
      "                                               image  cell_type_id  \n",
      "0  [[[192, 154, 195], [193, 155, 196], [192, 149,...             1  \n",
      "1  [[[20, 13, 20], [23, 12, 26], [30, 18, 40], [5...             1  \n",
      "2  [[[182, 125, 132], [187, 133, 147], [200, 143,...             1  \n",
      "3  [[[23, 12, 20], [34, 18, 29], [54, 30, 43], [8...             1  \n",
      "4  [[[140, 95, 118], [155, 111, 136], [174, 130, ...             1  \n"
     ]
    }
   ],
   "source": [
    "# print first 5 values of dataframe\n",
    "print(metadata_df.head(5))"
   ]
  },
  {
   "cell_type": "code",
   "execution_count": 64,
   "metadata": {},
   "outputs": [
    {
     "name": "stdout",
     "output_type": "stream",
     "text": [
      "         lesion_id      image_id     dx dx_type   age     sex localization  \\\n",
      "10010  HAM_0002867  ISIC_0033084  akiec   histo  40.0    male      abdomen   \n",
      "10011  HAM_0002867  ISIC_0033550  akiec   histo  40.0    male      abdomen   \n",
      "10012  HAM_0002867  ISIC_0033536  akiec   histo  40.0    male      abdomen   \n",
      "10013  HAM_0000239  ISIC_0032854  akiec   histo  80.0    male         face   \n",
      "10014  HAM_0003521  ISIC_0032258    mel   histo  70.0  female         back   \n",
      "\n",
      "                                          path       cell_type  \\\n",
      "10010  HAM10000_images_part_2\\ISIC_0033084.jpg  Bowens Disease   \n",
      "10011  HAM10000_images_part_2\\ISIC_0033550.jpg  Bowens Disease   \n",
      "10012  HAM10000_images_part_2\\ISIC_0033536.jpg  Bowens Disease   \n",
      "10013  HAM10000_images_part_2\\ISIC_0032854.jpg  Bowens Disease   \n",
      "10014  HAM10000_images_part_2\\ISIC_0032258.jpg        Melanoma   \n",
      "\n",
      "                                                   image  \n",
      "10010  [[[183, 166, 182], [182, 168, 181], [170, 159,...  \n",
      "10011  [[[6, 7, 1], [8, 8, 6], [8, 9, 4], [17, 15, 16...  \n",
      "10012  [[[120, 108, 112], [135, 125, 126], [148, 130,...  \n",
      "10013  [[[157, 127, 151], [155, 121, 137], [161, 130,...  \n",
      "10014  [[[177, 149, 145], [176, 140, 124], [179, 147,...  \n"
     ]
    }
   ],
   "source": [
    "# print first 5 values of dataframe\n",
    "print(metadata_df.tail(5))"
   ]
  },
  {
   "cell_type": "code",
   "execution_count": 10,
   "metadata": {},
   "outputs": [
    {
     "name": "stdout",
     "output_type": "stream",
     "text": [
      "Index(['lesion_id', 'image_id', 'dx', 'dx_type', 'age', 'sex', 'localization'], dtype='object')\n"
     ]
    }
   ],
   "source": [
    "# print column names\n",
    "print(metadata_df.columns)"
   ]
  },
  {
   "cell_type": "code",
   "execution_count": 11,
   "metadata": {},
   "outputs": [
    {
     "name": "stdout",
     "output_type": "stream",
     "text": [
      "               age\n",
      "count  9958.000000\n",
      "mean     51.863828\n",
      "std      16.968614\n",
      "min       0.000000\n",
      "25%      40.000000\n",
      "50%      50.000000\n",
      "75%      65.000000\n",
      "max      85.000000\n"
     ]
    }
   ],
   "source": [
    "# summary of numeric values\n",
    "print(metadata_df.describe())"
   ]
  },
  {
   "cell_type": "code",
   "execution_count": 12,
   "metadata": {},
   "outputs": [
    {
     "name": "stdout",
     "output_type": "stream",
     "text": [
      "<class 'pandas.core.frame.DataFrame'>\n",
      "RangeIndex: 10015 entries, 0 to 10014\n",
      "Data columns (total 7 columns):\n",
      "lesion_id       10015 non-null object\n",
      "image_id        10015 non-null object\n",
      "dx              10015 non-null object\n",
      "dx_type         10015 non-null object\n",
      "age             9958 non-null float64\n",
      "sex             10015 non-null object\n",
      "localization    10015 non-null object\n",
      "dtypes: float64(1), object(6)\n",
      "memory usage: 547.8+ KB\n",
      "None\n"
     ]
    }
   ],
   "source": [
    "# gives us data types and how many values of each column are non-null\n",
    "print(metadata_df.info())"
   ]
  },
  {
   "cell_type": "code",
   "execution_count": 13,
   "metadata": {},
   "outputs": [],
   "source": [
    "# fill null values of age with the mean value of the age column\n",
    "metadata_df[\"age\"] = metadata_df[\"age\"].fillna(int(metadata_df[\"age\"].mean()))"
   ]
  },
  {
   "cell_type": "code",
   "execution_count": 14,
   "metadata": {},
   "outputs": [
    {
     "name": "stdout",
     "output_type": "stream",
     "text": [
      "['bkl' 'nv' 'df' 'mel' 'vasc' 'bcc' 'akiec']\n"
     ]
    }
   ],
   "source": [
    "# display unique values in sex column\n",
    "print(metadata_df.dx.unique())"
   ]
  },
  {
   "cell_type": "code",
   "execution_count": 15,
   "metadata": {},
   "outputs": [
    {
     "name": "stdout",
     "output_type": "stream",
     "text": [
      "['histo' 'consensus' 'confocal' 'follow_up']\n"
     ]
    }
   ],
   "source": [
    "# display unique values in sex column\n",
    "print(metadata_df.dx_type.unique())"
   ]
  },
  {
   "cell_type": "code",
   "execution_count": 20,
   "metadata": {},
   "outputs": [
    {
     "name": "stdout",
     "output_type": "stream",
     "text": [
      "['male' 'female']\n"
     ]
    }
   ],
   "source": [
    "# display unique values in sex column\n",
    "print(metadata_df.sex.unique())"
   ]
  },
  {
   "cell_type": "code",
   "execution_count": 17,
   "metadata": {},
   "outputs": [],
   "source": [
    "# drop rows where sex = unknown\n",
    "metadata_df = metadata_df[metadata_df.sex!='unknown']"
   ]
  },
  {
   "cell_type": "code",
   "execution_count": 41,
   "metadata": {},
   "outputs": [
    {
     "name": "stdout",
     "output_type": "stream",
     "text": [
      "[80. 75. 60. 70. 55. 85. 65. 40. 50. 45. 35.  0. 30.  5. 25. 20. 51. 10.\n",
      " 15.]\n"
     ]
    }
   ],
   "source": [
    "# display unique values in sex column\n",
    "print(metadata_df.localization.unique())"
   ]
  },
  {
   "cell_type": "code",
   "execution_count": 19,
   "metadata": {},
   "outputs": [],
   "source": [
    "# drop rows where localization = unknown\n",
    "metadata_df = metadata_df[metadata_df.localization!='unknown']"
   ]
  },
  {
   "cell_type": "code",
   "execution_count": 36,
   "metadata": {},
   "outputs": [
    {
     "data": {
      "image/png": "[encoded data removed]",
      "text/plain": [
       "<Figure size 1440x720 with 1 Axes>"
      ]
     },
     "metadata": {
      "needs_background": "light"
     },
     "output_type": "display_data"
    }
   ],
   "source": [
    "# countplot of cell type\n",
    "plt.figure(figsize=(20, 10))\n",
    "\n",
    "sns.countplot(x = 'cell_type',\n",
    "              data = metadata_df,\n",
    "              order = metadata_df['cell_type'].value_counts().index)\n",
    "plt.title(\"Countplot\")\n",
    "plt.show()"
   ]
  },
  {
   "cell_type": "code",
   "execution_count": 44,
   "metadata": {},
   "outputs": [
    {
     "data": {
      "image/png": "[encoded data removed]",
      "text/plain": [
       "<Figure size 1440x720 with 1 Axes>"
      ]
     },
     "metadata": {
      "needs_background": "light"
     },
     "output_type": "display_data"
    }
   ],
   "source": [
    "# countplot of diagnosis\n",
    "plt.figure(figsize=(20, 10))\n",
    "\n",
    "sns.countplot(x = 'dx_type',\n",
    "              data = metadata_df,\n",
    "              order = metadata_df['dx_type'].value_counts().index)\n",
    "plt.title(\"Countplot\")\n",
    "plt.show()"
   ]
  },
  {
   "cell_type": "code",
   "execution_count": 45,
   "metadata": {},
   "outputs": [
    {
     "data": {
      "image/png": "[encoded data removed]",
      "text/plain": [
       "<Figure size 1440x720 with 1 Axes>"
      ]
     },
     "metadata": {
      "needs_background": "light"
     },
     "output_type": "display_data"
    }
   ],
   "source": [
    "# histogram of age\n",
    "plt.figure(figsize=(20, 10))\n",
    "\n",
    "plt.hist(metadata_df['age'], bins = 20, histtype='bar', ec='black')\n",
    "plt.title(\"Histogram\")\n",
    "plt.show()"
   ]
  },
  {
   "cell_type": "code",
   "execution_count": 46,
   "metadata": {},
   "outputs": [
    {
     "data": {
      "image/png": "[encoded data removed]",
      "text/plain": [
       "<Figure size 1440x720 with 1 Axes>"
      ]
     },
     "metadata": {
      "needs_background": "light"
     },
     "output_type": "display_data"
    }
   ],
   "source": [
    "# countplot of sex\n",
    "plt.figure(figsize=(20, 10))\n",
    "\n",
    "sns.countplot(x = 'sex',\n",
    "              data = metadata_df,\n",
    "              order = metadata_df['sex'].value_counts().index)\n",
    "plt.title(\"Countplot\")\n",
    "plt.show()"
   ]
  },
  {
   "cell_type": "code",
   "execution_count": 47,
   "metadata": {},
   "outputs": [
    {
     "data": {
      "image/png": "[encoded data removed]",
      "text/plain": [
       "<Figure size 1440x720 with 1 Axes>"
      ]
     },
     "metadata": {
      "needs_background": "light"
     },
     "output_type": "display_data"
    }
   ],
   "source": [
    "# countplot of loalization\n",
    "plt.figure(figsize=(20, 10))\n",
    "\n",
    "sns.countplot(x = 'localization',\n",
    "              data = metadata_df,\n",
    "              order = metadata_df['localization'].value_counts().index)\n",
    "plt.title(\"Countplot\")\n",
    "plt.show()"
   ]
  },
  {
   "cell_type": "code",
   "execution_count": 52,
   "metadata": {},
   "outputs": [],
   "source": [
    "# images rescaled to 12.5% of original size\n",
    "metadata_df['image'] = metadata_df['path'].map(lambda x: np.asarray(Image.open(x).resize((75,50))))"
   ]
  },
  {
   "cell_type": "code",
   "execution_count": 67,
   "metadata": {},
   "outputs": [],
   "source": [
    "# assign each cell type an ID and add it to a column\n",
    "metadata_df['cell_type_id'] = pd.Categorical(metadata_df['cell_type']).codes"
   ]
  },
  {
   "cell_type": "code",
   "execution_count": 69,
   "metadata": {},
   "outputs": [],
   "source": [
    "# get predictor variables and add them to a dataframe\n",
    "predictor = metadata_df.drop(columns=['cell_type_id'],axis=1)\n",
    "# get response variables and add them to a series\n",
    "response = metadata_df['cell_type_id']"
   ]
  },
  {
   "cell_type": "code",
   "execution_count": 87,
   "metadata": {},
   "outputs": [],
   "source": [
    "# create training and test data for x and y variables\n",
    "x_train, x_test, y_train, y_test = train_test_split(predictor, response, test_size=0.25, random_state=1)"
   ]
  },
  {
   "cell_type": "code",
   "execution_count": 97,
   "metadata": {
    "scrolled": true
   },
   "outputs": [],
   "source": [
    "# normalise data\n",
    "x_train = np.asarray(x_train[\"image\"].tolist())\n",
    "x_test = np.asarray(x_test['image'].tolist())\n",
    "\n",
    "x_train = (x_train - np.mean(x_train)) / (np.std(x_train))\n",
    "x_test = (x_test - np.mean(x_test) / np.std(x_test))"
   ]
  }
 ],
 "metadata": {
  "kernelspec": {
   "display_name": "Python 3",
   "language": "python",
   "name": "python3"
  },
  "language_info": {
   "codemirror_mode": {
    "name": "ipython",
    "version": 3
   },
   "file_extension": ".py",
   "mimetype": "text/x-python",
   "name": "python",
   "nbconvert_exporter": "python",
   "pygments_lexer": "ipython3",
   "version": "3.6.8"
  }
 },
 "nbformat": 4,
 "nbformat_minor": 2
}
