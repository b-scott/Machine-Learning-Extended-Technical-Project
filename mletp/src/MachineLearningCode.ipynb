{
 "cells": [
  {
   "cell_type": "code",
   "execution_count": 2,
   "metadata": {},
   "outputs": [],
   "source": [
    "# Sources used\n",
    "# https://www.kaggle.com/sid321axn/step-wise-approach-cnn-model-77-0344-accuracy?fbclid=IwAR2JWtc6_nC3PZwfg5THA1qjTx1qaLc6NllbXIAftRkZQu_AnQ6VMgaDsIs"
   ]
  },
  {
   "cell_type": "code",
   "execution_count": 78,
   "metadata": {},
   "outputs": [],
   "source": [
    "# import libraries\n",
    "import os\n",
    "import numpy as np\n",
    "import pandas as pd\n",
    "from glob import glob\n",
    "import seaborn as sns\n",
    "import matplotlib.pyplot as plt\n",
    "from PIL import Image\n",
    "from sklearn.model_selection import train_test_split\n",
    "from keras.utils.np_utils import to_categorical\n",
    "from keras.models import Sequential\n",
    "from keras.layers import Dense, Dropout, Flatten, Conv2D, MaxPool2D\n",
    "from keras.optimizers import Adam\n",
    "from keras.callbacks import ReduceLROnPlateau\n",
    "from keras.preprocessing.image import ImageDataGenerator\n",
    "from sklearn.metrics import confusion_matrix"
   ]
  },
  {
   "cell_type": "code",
   "execution_count": 2,
   "metadata": {},
   "outputs": [
    {
     "name": "stdout",
     "output_type": "stream",
     "text": [
      "C:\\Users\\b5034806\\Documents\\Machine-Learning-Extended-Technical-Project\\mletp\\src\n"
     ]
    }
   ],
   "source": [
    "# get working directory\n",
    "cwd = os.getcwd()\n",
    "print(cwd)"
   ]
  },
  {
   "cell_type": "code",
   "execution_count": 3,
   "metadata": {},
   "outputs": [],
   "source": [
    "# change working directory to import data\n",
    "os.chdir(r\"C:\\Users\\b5034806\\Documents\\Machine-Learning-Extended-Technical-Project\\mletp\\data\")"
   ]
  },
  {
   "cell_type": "code",
   "execution_count": 4,
   "metadata": {},
   "outputs": [],
   "source": [
    "metadata_df = pd.read_csv(\"HAM10000_metadata.csv\")\n",
    "hmnist_8_8_L = pd.read_csv(\"hmnist_8_8_L.csv\")\n",
    "hmnist_8_8_RGB = pd.read_csv(\"hmnist_8_8_RGB.csv\")\n",
    "hmnist_28_28_L = pd.read_csv(\"HAM10000_metadata.csv\")\n",
    "hmnist_28_28_RGB = pd.read_csv(\"HAM10000_metadata.csv\")"
   ]
  },
  {
   "cell_type": "code",
   "execution_count": 5,
   "metadata": {},
   "outputs": [],
   "source": [
    "# dictionary for image paths\n",
    "imageid_path_dict = {os.path.splitext(os.path.basename(x))[0]: x\n",
    "                     for x in glob(os.path.join('*', '*.jpg'))}"
   ]
  },
  {
   "cell_type": "code",
   "execution_count": 6,
   "metadata": {},
   "outputs": [],
   "source": [
    "# change working directory back\n",
    "os.chdir(r\"C:\\Users\\b5034806\\Documents\\Machine-Learning-Extended-Technical-Project\\mletp\\src\")"
   ]
  },
  {
   "cell_type": "code",
   "execution_count": 7,
   "metadata": {},
   "outputs": [],
   "source": [
    "# dictionary to rename cell types for readability\n",
    "lesion_type_dict = {\n",
    "    'nv': 'Melanocytic Nevi',\n",
    "    'mel': 'Melanoma',\n",
    "    'bkl': 'Benign Keratosis-like Lesions ',\n",
    "    'bcc': 'Basal Cell Carcinoma',\n",
    "    'akiec': 'Bowens Disease',\n",
    "    'vasc': 'Vascular Lesions',\n",
    "    'df': 'Dermatofibroma'\n",
    "}"
   ]
  },
  {
   "cell_type": "code",
   "execution_count": 8,
   "metadata": {},
   "outputs": [],
   "source": [
    "# add column for path of image\n",
    "metadata_df['path'] = metadata_df['image_id'].map(imageid_path_dict.get)\n",
    "# add column for cell types, for readability\n",
    "metadata_df['cell_type'] = metadata_df['dx'].map(lesion_type_dict.get)"
   ]
  },
  {
   "cell_type": "markdown",
   "metadata": {},
   "source": [
    "Exploratory Data Analysis and Data Cleaning\n",
    "\n",
    "In order to gather an understanding of the data, it was important to run some exploratory data analysis and see things such as the structure of the data and what types the data are stored as."
   ]
  },
  {
   "cell_type": "code",
   "execution_count": 9,
   "metadata": {},
   "outputs": [
    {
     "name": "stdout",
     "output_type": "stream",
     "text": [
      "     lesion_id      image_id   dx dx_type   age   sex localization  \\\n",
      "0  HAM_0000118  ISIC_0027419  bkl   histo  80.0  male        scalp   \n",
      "1  HAM_0000118  ISIC_0025030  bkl   histo  80.0  male        scalp   \n",
      "2  HAM_0002730  ISIC_0026769  bkl   histo  80.0  male        scalp   \n",
      "3  HAM_0002730  ISIC_0025661  bkl   histo  80.0  male        scalp   \n",
      "4  HAM_0001466  ISIC_0031633  bkl   histo  75.0  male          ear   \n",
      "\n",
      "                                      path                       cell_type  \n",
      "0  HAM10000_images_part_1\\ISIC_0027419.jpg  Benign Keratosis-like Lesions   \n",
      "1  HAM10000_images_part_1\\ISIC_0025030.jpg  Benign Keratosis-like Lesions   \n",
      "2  HAM10000_images_part_1\\ISIC_0026769.jpg  Benign Keratosis-like Lesions   \n",
      "3  HAM10000_images_part_1\\ISIC_0025661.jpg  Benign Keratosis-like Lesions   \n",
      "4  HAM10000_images_part_2\\ISIC_0031633.jpg  Benign Keratosis-like Lesions   \n"
     ]
    }
   ],
   "source": [
    "# print first 5 values of dataframe\n",
    "print(metadata_df.head(5))"
   ]
  },
  {
   "cell_type": "code",
   "execution_count": 10,
   "metadata": {},
   "outputs": [
    {
     "name": "stdout",
     "output_type": "stream",
     "text": [
      "         lesion_id      image_id     dx dx_type   age     sex localization  \\\n",
      "10010  HAM_0002867  ISIC_0033084  akiec   histo  40.0    male      abdomen   \n",
      "10011  HAM_0002867  ISIC_0033550  akiec   histo  40.0    male      abdomen   \n",
      "10012  HAM_0002867  ISIC_0033536  akiec   histo  40.0    male      abdomen   \n",
      "10013  HAM_0000239  ISIC_0032854  akiec   histo  80.0    male         face   \n",
      "10014  HAM_0003521  ISIC_0032258    mel   histo  70.0  female         back   \n",
      "\n",
      "                                          path       cell_type  \n",
      "10010  HAM10000_images_part_2\\ISIC_0033084.jpg  Bowens Disease  \n",
      "10011  HAM10000_images_part_2\\ISIC_0033550.jpg  Bowens Disease  \n",
      "10012  HAM10000_images_part_2\\ISIC_0033536.jpg  Bowens Disease  \n",
      "10013  HAM10000_images_part_2\\ISIC_0032854.jpg  Bowens Disease  \n",
      "10014  HAM10000_images_part_2\\ISIC_0032258.jpg        Melanoma  \n"
     ]
    }
   ],
   "source": [
    "# print first 5 values of dataframe\n",
    "print(metadata_df.tail(5))"
   ]
  },
  {
   "cell_type": "code",
   "execution_count": 11,
   "metadata": {},
   "outputs": [
    {
     "name": "stdout",
     "output_type": "stream",
     "text": [
      "Index(['lesion_id', 'image_id', 'dx', 'dx_type', 'age', 'sex', 'localization',\n",
      "       'path', 'cell_type'],\n",
      "      dtype='object')\n"
     ]
    }
   ],
   "source": [
    "# print column names\n",
    "print(metadata_df.columns)"
   ]
  },
  {
   "cell_type": "code",
   "execution_count": 12,
   "metadata": {},
   "outputs": [
    {
     "name": "stdout",
     "output_type": "stream",
     "text": [
      "               age\n",
      "count  9958.000000\n",
      "mean     51.863828\n",
      "std      16.968614\n",
      "min       0.000000\n",
      "25%      40.000000\n",
      "50%      50.000000\n",
      "75%      65.000000\n",
      "max      85.000000\n"
     ]
    }
   ],
   "source": [
    "# summary of numeric values\n",
    "print(metadata_df.describe())"
   ]
  },
  {
   "cell_type": "code",
   "execution_count": 13,
   "metadata": {},
   "outputs": [
    {
     "name": "stdout",
     "output_type": "stream",
     "text": [
      "<class 'pandas.core.frame.DataFrame'>\n",
      "RangeIndex: 10015 entries, 0 to 10014\n",
      "Data columns (total 9 columns):\n",
      "lesion_id       10015 non-null object\n",
      "image_id        10015 non-null object\n",
      "dx              10015 non-null object\n",
      "dx_type         10015 non-null object\n",
      "age             9958 non-null float64\n",
      "sex             10015 non-null object\n",
      "localization    10015 non-null object\n",
      "path            10015 non-null object\n",
      "cell_type       10015 non-null object\n",
      "dtypes: float64(1), object(8)\n",
      "memory usage: 704.3+ KB\n",
      "None\n"
     ]
    }
   ],
   "source": [
    "# gives us data types and how many values of each column are non-null\n",
    "print(metadata_df.info())"
   ]
  },
  {
   "cell_type": "code",
   "execution_count": 14,
   "metadata": {},
   "outputs": [],
   "source": [
    "# fill null values of age with the mean value of the age column\n",
    "metadata_df[\"age\"] = metadata_df[\"age\"].fillna(int(metadata_df[\"age\"].mean()))"
   ]
  },
  {
   "cell_type": "code",
   "execution_count": 15,
   "metadata": {},
   "outputs": [
    {
     "name": "stdout",
     "output_type": "stream",
     "text": [
      "['bkl' 'nv' 'df' 'mel' 'vasc' 'bcc' 'akiec']\n"
     ]
    }
   ],
   "source": [
    "# display unique values in sex column\n",
    "print(metadata_df.dx.unique())"
   ]
  },
  {
   "cell_type": "code",
   "execution_count": 16,
   "metadata": {},
   "outputs": [
    {
     "name": "stdout",
     "output_type": "stream",
     "text": [
      "['histo' 'consensus' 'confocal' 'follow_up']\n"
     ]
    }
   ],
   "source": [
    "# display unique values in sex column\n",
    "print(metadata_df.dx_type.unique())"
   ]
  },
  {
   "cell_type": "code",
   "execution_count": 17,
   "metadata": {},
   "outputs": [
    {
     "name": "stdout",
     "output_type": "stream",
     "text": [
      "['male' 'female' 'unknown']\n"
     ]
    }
   ],
   "source": [
    "# display unique values in sex column\n",
    "print(metadata_df.sex.unique())"
   ]
  },
  {
   "cell_type": "code",
   "execution_count": 18,
   "metadata": {},
   "outputs": [],
   "source": [
    "# drop rows where sex = unknown\n",
    "metadata_df = metadata_df[metadata_df.sex!='unknown']"
   ]
  },
  {
   "cell_type": "code",
   "execution_count": 19,
   "metadata": {},
   "outputs": [
    {
     "name": "stdout",
     "output_type": "stream",
     "text": [
      "['scalp' 'ear' 'face' 'back' 'trunk' 'chest' 'upper extremity' 'abdomen'\n",
      " 'unknown' 'lower extremity' 'genital' 'neck' 'hand' 'foot' 'acral']\n"
     ]
    }
   ],
   "source": [
    "# display unique values in sex column\n",
    "print(metadata_df.localization.unique())"
   ]
  },
  {
   "cell_type": "code",
   "execution_count": 20,
   "metadata": {},
   "outputs": [],
   "source": [
    "# drop rows where localization = unknown\n",
    "metadata_df = metadata_df[metadata_df.localization!='unknown']"
   ]
  },
  {
   "cell_type": "code",
   "execution_count": 21,
   "metadata": {},
   "outputs": [
    {
     "data": {
      "image/png": "[encoded data removed]",
      "text/plain": [
       "<Figure size 1440x720 with 1 Axes>"
      ]
     },
     "metadata": {
      "needs_background": "light"
     },
     "output_type": "display_data"
    }
   ],
   "source": [
    "# countplot of cell type\n",
    "plt.figure(figsize=(20, 10))\n",
    "\n",
    "sns.countplot(x = 'cell_type',\n",
    "              data = metadata_df,\n",
    "              order = metadata_df['cell_type'].value_counts().index)\n",
    "plt.title(\"Countplot\")\n",
    "plt.show()"
   ]
  },
  {
   "cell_type": "code",
   "execution_count": 22,
   "metadata": {},
   "outputs": [
    {
     "data": {
      "image/png": "[encoded data removed]",
      "text/plain": [
       "<Figure size 1440x720 with 1 Axes>"
      ]
     },
     "metadata": {
      "needs_background": "light"
     },
     "output_type": "display_data"
    }
   ],
   "source": [
    "# countplot of diagnosis\n",
    "plt.figure(figsize=(20, 10))\n",
    "\n",
    "sns.countplot(x = 'dx_type',\n",
    "              data = metadata_df,\n",
    "              order = metadata_df['dx_type'].value_counts().index)\n",
    "plt.title(\"Countplot\")\n",
    "plt.show()"
   ]
  },
  {
   "cell_type": "code",
   "execution_count": 23,
   "metadata": {},
   "outputs": [
    {
     "data": {
      "image/png": "[encoded data removed]",
      "text/plain": [
       "<Figure size 1440x720 with 1 Axes>"
      ]
     },
     "metadata": {
      "needs_background": "light"
     },
     "output_type": "display_data"
    }
   ],
   "source": [
    "# histogram of age\n",
    "plt.figure(figsize=(20, 10))\n",
    "\n",
    "plt.hist(metadata_df['age'], bins = 20, histtype='bar', ec='black')\n",
    "plt.title(\"Histogram\")\n",
    "plt.show()"
   ]
  },
  {
   "cell_type": "code",
   "execution_count": 24,
   "metadata": {},
   "outputs": [
    {
     "data": {
      "image/png": "[encoded data removed]",
      "text/plain": [
       "<Figure size 1440x720 with 1 Axes>"
      ]
     },
     "metadata": {
      "needs_background": "light"
     },
     "output_type": "display_data"
    }
   ],
   "source": [
    "# countplot of sex\n",
    "plt.figure(figsize=(20, 10))\n",
    "\n",
    "sns.countplot(x = 'sex',\n",
    "              data = metadata_df,\n",
    "              order = metadata_df['sex'].value_counts().index)\n",
    "plt.title(\"Countplot\")\n",
    "plt.show()"
   ]
  },
  {
   "cell_type": "code",
   "execution_count": 25,
   "metadata": {},
   "outputs": [
    {
     "data": {
      "image/png": "[encoded data removed]",
      "text/plain": [
       "<Figure size 1440x720 with 1 Axes>"
      ]
     },
     "metadata": {
      "needs_background": "light"
     },
     "output_type": "display_data"
    }
   ],
   "source": [
    "# countplot of loalization\n",
    "plt.figure(figsize=(20, 10))\n",
    "\n",
    "sns.countplot(x = 'localization',\n",
    "              data = metadata_df,\n",
    "              order = metadata_df['localization'].value_counts().index)\n",
    "plt.title(\"Countplot\")\n",
    "plt.show()"
   ]
  },
  {
   "cell_type": "code",
   "execution_count": 79,
   "metadata": {},
   "outputs": [],
   "source": [
    "# change working directory for resizing\n",
    "os.chdir(r\"C:\\Users\\b5034806\\Documents\\Machine-Learning-Extended-Technical-Project\\mletp\\data\")\n",
    "\n",
    "# images rescaled to 1/3 of original size\n",
    "metadata_df['image'] = metadata_df['path'].map(lambda x: np.asarray(Image.open(x).resize((200,150))))\n",
    "\n",
    "# change working directory back\n",
    "os.chdir(r\"C:\\Users\\b5034806\\Documents\\Machine-Learning-Extended-Technical-Project\\mletp\\src\")"
   ]
  },
  {
   "cell_type": "code",
   "execution_count": 80,
   "metadata": {},
   "outputs": [],
   "source": [
    "# assign each cell type an ID and add it to a column\n",
    "metadata_df['cell_type_id'] = pd.Categorical(metadata_df['cell_type']).codes"
   ]
  },
  {
   "cell_type": "code",
   "execution_count": 81,
   "metadata": {},
   "outputs": [],
   "source": [
    "# get predictor variables and add them to a dataframe\n",
    "predictor = metadata_df.drop(columns=['cell_type_id'],axis=1)\n",
    "# get response variables and add them to a series\n",
    "response = metadata_df['cell_type_id']"
   ]
  },
  {
   "cell_type": "code",
   "execution_count": 82,
   "metadata": {},
   "outputs": [],
   "source": [
    "# create training and test data for x and y variables at a 75:25 ratio\n",
    "x_train, x_test, y_train, y_test = train_test_split(predictor, response, test_size=0.25, random_state=1)"
   ]
  },
  {
   "cell_type": "code",
   "execution_count": 83,
   "metadata": {
    "scrolled": true
   },
   "outputs": [],
   "source": [
    "# normalise data\n",
    "x_train = np.asarray(x_train[\"image\"].tolist())\n",
    "x_test = np.asarray(x_test['image'].tolist())\n",
    "\n",
    "x_train = (x_train - np.mean(x_train)) / (np.std(x_train))\n",
    "x_test = (x_test - np.mean(x_test) / np.std(x_test))"
   ]
  },
  {
   "cell_type": "code",
   "execution_count": 84,
   "metadata": {},
   "outputs": [],
   "source": [
    "# Perform one-hot encoding on the labels\n",
    "y_train = to_categorical(y_train, num_classes = 7)\n",
    "y_test = to_categorical(y_test, num_classes = 7)"
   ]
  },
  {
   "cell_type": "code",
   "execution_count": 85,
   "metadata": {},
   "outputs": [],
   "source": [
    "# split data into training and validation data set at a 70:30 ratio\n",
    "#x_train, x_validate, y_train, y_validate = train_test_split(x_train, y_train, test_size = 0.3, random_state = 1)"
   ]
  },
  {
   "cell_type": "code",
   "execution_count": 86,
   "metadata": {},
   "outputs": [],
   "source": [
    "# Reshape image in 3 dimensions (height = 75px, width = 100px , canal = 3)\n",
    "x_train = x_train.reshape(x_train.shape[0], *(150, 200, 3))\n",
    "x_test = x_test.reshape(x_test.shape[0], *(150, 200, 3))\n",
    "#x_validate = x_validate.reshape(x_validate.shape[0], *(75, 100, 3))"
   ]
  },
  {
   "cell_type": "code",
   "execution_count": 87,
   "metadata": {},
   "outputs": [
    {
     "name": "stdout",
     "output_type": "stream",
     "text": [
      "_________________________________________________________________\n",
      "Layer (type)                 Output Shape              Param #   \n",
      "=================================================================\n",
      "conv2d_23 (Conv2D)           (None, 150, 200, 32)      896       \n",
      "_________________________________________________________________\n",
      "conv2d_24 (Conv2D)           (None, 150, 200, 32)      9248      \n",
      "_________________________________________________________________\n",
      "max_pooling2d_12 (MaxPooling (None, 75, 100, 32)       0         \n",
      "_________________________________________________________________\n",
      "dropout_18 (Dropout)         (None, 75, 100, 32)       0         \n",
      "_________________________________________________________________\n",
      "conv2d_25 (Conv2D)           (None, 75, 100, 64)       18496     \n",
      "_________________________________________________________________\n",
      "conv2d_26 (Conv2D)           (None, 75, 100, 64)       36928     \n",
      "_________________________________________________________________\n",
      "max_pooling2d_13 (MaxPooling (None, 37, 50, 64)        0         \n",
      "_________________________________________________________________\n",
      "dropout_19 (Dropout)         (None, 37, 50, 64)        0         \n",
      "_________________________________________________________________\n",
      "flatten_7 (Flatten)          (None, 118400)            0         \n",
      "_________________________________________________________________\n",
      "dense_13 (Dense)             (None, 128)               15155328  \n",
      "_________________________________________________________________\n",
      "dropout_20 (Dropout)         (None, 128)               0         \n",
      "_________________________________________________________________\n",
      "dense_14 (Dense)             (None, 7)                 903       \n",
      "=================================================================\n",
      "Total params: 15,221,799\n",
      "Trainable params: 15,221,799\n",
      "Non-trainable params: 0\n",
      "_________________________________________________________________\n"
     ]
    }
   ],
   "source": [
    "# Set the CNN model \n",
    "# my CNN architechture is In -> [[Conv2D->relu]*2 -> MaxPool2D -> Dropout]*2 -> Flatten -> Dense -> Dropout -> Out\n",
    "input_shape = (150, 200, 3)\n",
    "num_classes = 7\n",
    "\n",
    "model = Sequential()\n",
    "model.add(Conv2D(32, kernel_size=(3, 3),activation='relu',padding = 'Same',input_shape=input_shape))\n",
    "model.add(Conv2D(32,kernel_size=(3, 3), activation='relu',padding = 'Same',))\n",
    "model.add(MaxPool2D(pool_size = (2, 2)))\n",
    "model.add(Dropout(0.25))\n",
    "\n",
    "model.add(Conv2D(64, (3, 3), activation='relu',padding = 'Same'))\n",
    "model.add(Conv2D(64, (3, 3), activation='relu',padding = 'Same'))\n",
    "model.add(MaxPool2D(pool_size=(2, 2)))\n",
    "model.add(Dropout(0.40))\n",
    "\n",
    "model.add(Flatten())\n",
    "model.add(Dense(128, activation='relu'))\n",
    "model.add(Dropout(0.5))\n",
    "model.add(Dense(num_classes, activation='softmax'))\n",
    "model.summary()"
   ]
  },
  {
   "cell_type": "code",
   "execution_count": 88,
   "metadata": {},
   "outputs": [],
   "source": [
    "# Define the optimizer\n",
    "optimizer = Adam(lr=0.001, beta_1=0.9, beta_2=0.999, epsilon=None, decay=0.0, amsgrad=False)"
   ]
  },
  {
   "cell_type": "code",
   "execution_count": 89,
   "metadata": {},
   "outputs": [],
   "source": [
    "# Compile the model\n",
    "model.compile(optimizer = optimizer , loss = \"categorical_crossentropy\", metrics=[\"accuracy\"])"
   ]
  },
  {
   "cell_type": "code",
   "execution_count": 90,
   "metadata": {},
   "outputs": [],
   "source": [
    "# Set a learning rate annealer\n",
    "learning_rate_reduction = ReduceLROnPlateau(monitor='val_acc', \n",
    "                                            patience=3, \n",
    "                                            verbose=1, \n",
    "                                            factor=0.5, \n",
    "                                            min_lr=0.00001)"
   ]
  },
  {
   "cell_type": "code",
   "execution_count": 91,
   "metadata": {},
   "outputs": [],
   "source": [
    "# With data augmentation to prevent overfitting \n",
    "\n",
    "datagen = ImageDataGenerator(\n",
    "        featurewise_center=False,  # set input mean to 0 over the dataset\n",
    "        samplewise_center=False,  # set each sample mean to 0\n",
    "        featurewise_std_normalization=False,  # divide inputs by std of the dataset\n",
    "        samplewise_std_normalization=False,  # divide each input by its std\n",
    "        zca_whitening=False,  # apply ZCA whitening\n",
    "        rotation_range=10,  # randomly rotate images in the range (degrees, 0 to 180)\n",
    "        zoom_range = 0.1, # Randomly zoom image \n",
    "        width_shift_range=0.1,  # randomly shift images horizontally (fraction of total width)\n",
    "        height_shift_range=0.1,  # randomly shift images vertically (fraction of total height)\n",
    "        horizontal_flip=False,  # randomly flip images\n",
    "        vertical_flip=False)  # randomly flip images\n",
    "\n",
    "datagen.fit(x_train)"
   ]
  },
  {
   "cell_type": "code",
   "execution_count": null,
   "metadata": {},
   "outputs": [
    {
     "name": "stdout",
     "output_type": "stream",
     "text": [
      "Train on 7328 samples, validate on 2443 samples\n",
      "Epoch 1/50\n",
      "7328/7328 [==============================] - 33s 5ms/step - loss: 1.0643 - acc: 0.6627 - val_loss: 1.9293 - val_acc: 0.6259\n",
      "Epoch 2/50\n",
      "7328/7328 [==============================] - 32s 4ms/step - loss: 0.9314 - acc: 0.6704 - val_loss: 2.5279 - val_acc: 0.6586\n",
      "Epoch 3/50\n",
      "7328/7328 [==============================] - 32s 4ms/step - loss: 0.8998 - acc: 0.6736 - val_loss: 5.4571 - val_acc: 0.6611\n",
      "Epoch 4/50\n",
      "7328/7328 [==============================] - 32s 4ms/step - loss: 0.8657 - acc: 0.6818 - val_loss: 5.2532 - val_acc: 0.6533\n",
      "Epoch 5/50\n",
      "7328/7328 [==============================] - 32s 4ms/step - loss: 0.8523 - acc: 0.6833 - val_loss: 8.7374 - val_acc: 0.1953\n",
      "Epoch 6/50\n",
      "7328/7328 [==============================] - 32s 4ms/step - loss: 0.8234 - acc: 0.6957 - val_loss: 6.7965 - val_acc: 0.5637\n",
      "Epoch 7/50\n",
      "7328/7328 [==============================] - 32s 4ms/step - loss: 0.8021 - acc: 0.7047 - val_loss: 7.3502 - val_acc: 0.5133\n",
      "Epoch 8/50\n",
      "7328/7328 [==============================] - 32s 4ms/step - loss: 0.7659 - acc: 0.7198 - val_loss: 6.3181 - val_acc: 0.6009\n",
      "Epoch 9/50\n",
      "7328/7328 [==============================] - 32s 4ms/step - loss: 0.7463 - acc: 0.7306 - val_loss: 6.7328 - val_acc: 0.5755\n",
      "Epoch 10/50\n",
      "7328/7328 [==============================] - 32s 4ms/step - loss: 0.6834 - acc: 0.7481 - val_loss: 6.4543 - val_acc: 0.5813\n",
      "Epoch 11/50\n",
      "7328/7328 [==============================] - 32s 4ms/step - loss: 0.6331 - acc: 0.7744 - val_loss: 10.1805 - val_acc: 0.3475\n",
      "Epoch 12/50\n",
      "7328/7328 [==============================] - 32s 4ms/step - loss: 0.6158 - acc: 0.7825 - val_loss: 4.7047 - val_acc: 0.1269\n",
      "Epoch 13/50\n",
      "7328/7328 [==============================] - 32s 4ms/step - loss: 0.5639 - acc: 0.7938 - val_loss: 11.6473 - val_acc: 0.2366\n",
      "Epoch 14/50\n",
      "7328/7328 [==============================] - 32s 4ms/step - loss: 0.4949 - acc: 0.8234 - val_loss: 7.2948 - val_acc: 0.5350\n",
      "Epoch 15/50\n",
      "7328/7328 [==============================] - 32s 4ms/step - loss: 0.4671 - acc: 0.8338 - val_loss: 11.6378 - val_acc: 0.2558\n",
      "Epoch 16/50\n",
      "7328/7328 [==============================] - 32s 4ms/step - loss: 0.4381 - acc: 0.8444 - val_loss: 8.8806 - val_acc: 0.4380\n",
      "Epoch 17/50\n",
      "7328/7328 [==============================] - 32s 4ms/step - loss: 0.4033 - acc: 0.8618 - val_loss: 9.3527 - val_acc: 0.3917\n",
      "Epoch 18/50\n",
      "7328/7328 [==============================] - 32s 4ms/step - loss: 0.3777 - acc: 0.8706 - val_loss: 9.8855 - val_acc: 0.3762los\n",
      "Epoch 19/50\n",
      "7328/7328 [==============================] - 32s 4ms/step - loss: 0.3429 - acc: 0.8791 - val_loss: 8.5231 - val_acc: 0.4572\n",
      "Epoch 20/50\n",
      "7328/7328 [==============================] - 32s 4ms/step - loss: 0.3512 - acc: 0.8844 - val_loss: 6.8443 - val_acc: 0.5677\n",
      "Epoch 21/50\n",
      "7328/7328 [==============================] - 32s 4ms/step - loss: 0.3097 - acc: 0.8934 - val_loss: 8.7302 - val_acc: 0.4421\n",
      "Epoch 22/50\n",
      "1280/7328 [====>.........................] - ETA: 23s - loss: 0.3037 - acc: 0.8945"
     ]
    }
   ],
   "source": [
    "# Fit the model\n",
    "epochs = 50 \n",
    "batch_size = 10\n",
    "history = model.fit(x_train,y_train, batch_size=batch_size,\n",
    "                              epochs = epochs, validation_data = (x_test, y_test),\n",
    "                              verbose = 1)"
   ]
  },
  {
   "cell_type": "code",
   "execution_count": null,
   "metadata": {},
   "outputs": [],
   "source": []
  }
 ],
 "metadata": {
  "kernelspec": {
   "display_name": "Python 3",
   "language": "python",
   "name": "python3"
  },
  "language_info": {
   "codemirror_mode": {
    "name": "ipython",
    "version": 3
   },
   "file_extension": ".py",
   "mimetype": "text/x-python",
   "name": "python",
   "nbconvert_exporter": "python",
   "pygments_lexer": "ipython3",
   "version": "3.6.8"
  }
 },
 "nbformat": 4,
 "nbformat_minor": 2
}
